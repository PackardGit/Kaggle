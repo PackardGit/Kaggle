{
  "nbformat": 4,
  "nbformat_minor": 0,
  "metadata": {
    "colab": {
      "name": "NLP with Disaster Tweets.ipynb",
      "provenance": [],
      "authorship_tag": "ABX9TyMOUTR2ewTjoQ/hyzcVKCD8",
      "include_colab_link": true
    },
    "kernelspec": {
      "name": "python3",
      "display_name": "Python 3"
    },
    "accelerator": "GPU"
  },
  "cells": [
    {
      "cell_type": "markdown",
      "metadata": {
        "id": "view-in-github",
        "colab_type": "text"
      },
      "source": [
        "<a href=\"https://colab.research.google.com/github/Suarez94/Kaggle/blob/main/NLP%20with%20Disaster%20Tweets/NLP_with_Disaster_Tweets.ipynb\" target=\"_parent\"><img src=\"https://colab.research.google.com/assets/colab-badge.svg\" alt=\"Open In Colab\"/></a>"
      ]
    },
    {
      "cell_type": "code",
      "metadata": {
        "id": "k02uXyxj_Ae1"
      },
      "source": [
        "!pip install transformers"
      ],
      "execution_count": null,
      "outputs": []
    },
    {
      "cell_type": "code",
      "metadata": {
        "colab": {
          "base_uri": "https://localhost:8080/"
        },
        "id": "XxbQmOSu_Fp-",
        "outputId": "de731163-66c5-4466-a225-fb4b231f88ee"
      },
      "source": [
        "from google.colab import drive\n",
        "import os \n",
        "drive.mount('/content/drive', force_remount=True)\n",
        "COLAB = True\n",
        "print(\"Note: using Google CoLab\")"
      ],
      "execution_count": 2,
      "outputs": [
        {
          "output_type": "stream",
          "text": [
            "Mounted at /content/drive\n",
            "Note: using Google CoLab\n"
          ],
          "name": "stdout"
        }
      ]
    },
    {
      "cell_type": "code",
      "metadata": {
        "id": "Vjf9r7ve_xt8"
      },
      "source": [
        "import pandas as pd\n",
        "import numpy as np\n",
        "from tqdm import tqdm\n",
        "import torch\n",
        "from transformers import BertForSequenceClassification, AdamW, BertConfig # model\n",
        "from transformers import BertTokenizer # tokenizer\n",
        "from keras.preprocessing.sequence import pad_sequences # add padding\n",
        "from sklearn.model_selection import train_test_split # split dataset for train and test\n",
        "from torch.utils.data import TensorDataset, DataLoader, RandomSampler, SequentialSampler # create data batches\n",
        "from transformers import get_linear_schedule_with_warmup # schedule for training BERT (updating weights etc)\n",
        "import time\n",
        "import datetime\n",
        "import random\n",
        "import re\n",
        "import string\n",
        "import tensorflow as tf\n",
        "\n",
        "def time_elapsed(sec):\n",
        "  h = int(sec/3600)\n",
        "  m = int(sec/60)\n",
        "  s = sec % 60\n",
        "  return \"{}:{:>02}:{:>05.2f}\".format(h,m,s)"
      ],
      "execution_count": 3,
      "outputs": []
    },
    {
      "cell_type": "code",
      "metadata": {
        "colab": {
          "base_uri": "https://localhost:8080/",
          "height": 197
        },
        "id": "Kf7BB5N8_Igi",
        "outputId": "a8b268a7-14c5-48d3-9205-aaf186b439c0"
      },
      "source": [
        "FOLDER_PATH = '/content/drive/My Drive/projects/NLP with Disaster Tweets'\n",
        "train = pd.read_csv(os.path.join(FOLDER_PATH, 'train.csv'))\n",
        "test = pd.read_csv(os.path.join(FOLDER_PATH, 'test.csv'))\n",
        "train.head()"
      ],
      "execution_count": 41,
      "outputs": [
        {
          "output_type": "execute_result",
          "data": {
            "text/html": [
              "<div>\n",
              "<style scoped>\n",
              "    .dataframe tbody tr th:only-of-type {\n",
              "        vertical-align: middle;\n",
              "    }\n",
              "\n",
              "    .dataframe tbody tr th {\n",
              "        vertical-align: top;\n",
              "    }\n",
              "\n",
              "    .dataframe thead th {\n",
              "        text-align: right;\n",
              "    }\n",
              "</style>\n",
              "<table border=\"1\" class=\"dataframe\">\n",
              "  <thead>\n",
              "    <tr style=\"text-align: right;\">\n",
              "      <th></th>\n",
              "      <th>id</th>\n",
              "      <th>keyword</th>\n",
              "      <th>location</th>\n",
              "      <th>text</th>\n",
              "      <th>target</th>\n",
              "    </tr>\n",
              "  </thead>\n",
              "  <tbody>\n",
              "    <tr>\n",
              "      <th>0</th>\n",
              "      <td>1</td>\n",
              "      <td>NaN</td>\n",
              "      <td>NaN</td>\n",
              "      <td>Our Deeds are the Reason of this #earthquake M...</td>\n",
              "      <td>1</td>\n",
              "    </tr>\n",
              "    <tr>\n",
              "      <th>1</th>\n",
              "      <td>4</td>\n",
              "      <td>NaN</td>\n",
              "      <td>NaN</td>\n",
              "      <td>Forest fire near La Ronge Sask. Canada</td>\n",
              "      <td>1</td>\n",
              "    </tr>\n",
              "    <tr>\n",
              "      <th>2</th>\n",
              "      <td>5</td>\n",
              "      <td>NaN</td>\n",
              "      <td>NaN</td>\n",
              "      <td>All residents asked to 'shelter in place' are ...</td>\n",
              "      <td>1</td>\n",
              "    </tr>\n",
              "    <tr>\n",
              "      <th>3</th>\n",
              "      <td>6</td>\n",
              "      <td>NaN</td>\n",
              "      <td>NaN</td>\n",
              "      <td>13,000 people receive #wildfires evacuation or...</td>\n",
              "      <td>1</td>\n",
              "    </tr>\n",
              "    <tr>\n",
              "      <th>4</th>\n",
              "      <td>7</td>\n",
              "      <td>NaN</td>\n",
              "      <td>NaN</td>\n",
              "      <td>Just got sent this photo from Ruby #Alaska as ...</td>\n",
              "      <td>1</td>\n",
              "    </tr>\n",
              "  </tbody>\n",
              "</table>\n",
              "</div>"
            ],
            "text/plain": [
              "   id keyword  ...                                               text target\n",
              "0   1     NaN  ...  Our Deeds are the Reason of this #earthquake M...      1\n",
              "1   4     NaN  ...             Forest fire near La Ronge Sask. Canada      1\n",
              "2   5     NaN  ...  All residents asked to 'shelter in place' are ...      1\n",
              "3   6     NaN  ...  13,000 people receive #wildfires evacuation or...      1\n",
              "4   7     NaN  ...  Just got sent this photo from Ruby #Alaska as ...      1\n",
              "\n",
              "[5 rows x 5 columns]"
            ]
          },
          "metadata": {
            "tags": []
          },
          "execution_count": 41
        }
      ]
    },
    {
      "cell_type": "markdown",
      "metadata": {
        "id": "xKxYStVoTQGR"
      },
      "source": [
        "## 1.0 Data cleaning"
      ]
    },
    {
      "cell_type": "code",
      "metadata": {
        "id": "4fYac975TOhO"
      },
      "source": [
        "# lowering case\n",
        "def lower_case(text):\n",
        "    return text.lower()\n",
        "train.text=train.text.apply(lambda x: lower_case(x))\n",
        "test.text=test.text.apply(lambda x: lower_case(x))\n",
        "\n",
        "def clean_text(text):\n",
        "    text = re.sub('\\[.*?\\]', '', text)\n",
        "    text = re.sub('https?://\\S+|www\\.\\S+', '', text)\n",
        "    text = re.sub('<.*?>+', '', text)\n",
        "    text = re.sub('[%s]' % re.escape(string.punctuation), '', text)\n",
        "    text = re.sub('\\n', '', text)\n",
        "    text = re.sub('\\w*\\d\\w*', '', text)\n",
        "    return text\n",
        "\n",
        "train.text=train.text.apply(lambda x: clean_text(x))\n",
        "test.text=test.text.apply(lambda x: clean_text(x))\n",
        "\n",
        "# in this case i wont use keyword or location, only tweets"
      ],
      "execution_count": 42,
      "outputs": []
    },
    {
      "cell_type": "markdown",
      "metadata": {
        "id": "rQdmNT2Ze3_s"
      },
      "source": [
        "## 2.0 Data engineering"
      ]
    },
    {
      "cell_type": "code",
      "metadata": {
        "id": "njAlNo_bWhzM"
      },
      "source": [
        "# fill NaN\n",
        "def fill_cols(df):\n",
        "  for col in df.columns:\n",
        "      df[col] = df[col].fillna('None')\n",
        "  return df\n",
        "\n",
        "train = fill_cols(train)\n",
        "test = fill_cols(test)\n",
        "\n",
        "# Add \"location\" to text\n",
        "train.text = 'location '+train.location + '. ' + train.text\n",
        "test.text = 'location '+test.location + '. ' + test.text"
      ],
      "execution_count": 40,
      "outputs": []
    },
    {
      "cell_type": "code",
      "metadata": {
        "id": "1kd4MLYkoBvm"
      },
      "source": [
        "texts = train.text.values\n",
        "labels = train.target.values"
      ],
      "execution_count": 43,
      "outputs": []
    },
    {
      "cell_type": "code",
      "metadata": {
        "id": "PRpO_EwpKC_N"
      },
      "source": [
        "# select gpu\n",
        "\n",
        "device_name = tf.test.gpu_device_name()\n",
        "\n",
        "if device_name == '/device:GPU:0':\n",
        "    print('Found GPU at: {}'.format(device_name))\n",
        "else:\n",
        "    raise SystemError('GPU device not found')\n",
        "\n",
        "if torch.cuda.is_available():    \n",
        "    device = torch.device(\"cuda\")\n",
        "    print('GPU in use:', torch.cuda.get_device_name(0))\n",
        "else:\n",
        "    print('CPU in use')\n",
        "    device = torch.device(\"cpu\")\n"
      ],
      "execution_count": null,
      "outputs": []
    },
    {
      "cell_type": "markdown",
      "metadata": {
        "id": "8ydZtoASncgF"
      },
      "source": [
        "## 3.0 Loading model and tokenizer\n"
      ]
    },
    {
      "cell_type": "code",
      "metadata": {
        "id": "Y-Lq85yxyLGb"
      },
      "source": [
        "tokenizer = BertTokenizer.from_pretrained('bert-base-uncased', do_lower_case=True)\n",
        "\n",
        "model = BertForSequenceClassification.from_pretrained(\n",
        "    \"bert-base-uncased\", # Use the 12-layer BERT model, with an uncased vocab.\n",
        "    num_labels = 2, # The number of output labels--2 for binary classification. \n",
        "    output_attentions = False, # Whether the model returns attentions weights.\n",
        "    output_hidden_states = False, # Whether the model returns all hidden-states.\n",
        ")\n",
        "\n",
        "model.cuda() # run on gpu"
      ],
      "execution_count": null,
      "outputs": []
    },
    {
      "cell_type": "markdown",
      "metadata": {
        "id": "QmuEes6Xqmbq"
      },
      "source": [
        "## 3.1 Format inputs"
      ]
    },
    {
      "cell_type": "code",
      "metadata": {
        "id": "GDfDnKrAql1i"
      },
      "source": [
        "MAX_LEN = 64\n",
        "batch_size = 32\n",
        "\n",
        "# need to format inputs \n",
        "#  1.Add additional needed tokens\n",
        "input_ids = []\n",
        "for text in texts:\n",
        "    encoded_text = tokenizer.encode(\n",
        "                        text,                      \n",
        "                        add_special_tokens = True, # Add '[CLS]' and '[SEP]'\n",
        "                   )\n",
        "    input_ids.append(encoded_text)\n",
        "\n",
        "#  2.every input must be the same length, but descriptions are different so me must add padding (adding token id0 to shorter inputs)\n",
        "\n",
        "\n",
        "input_ids = pad_sequences(input_ids, maxlen=MAX_LEN, dtype=\"long\", \n",
        "                          value=0, truncating=\"post\", padding=\"post\")\n",
        "\n",
        "#  3. Creating attention masks\n",
        "attention_masks = []\n",
        "for text in input_ids:\n",
        "    # Create the attention mask.\n",
        "    #   - If a token ID is 0, then it's padding, set the mask to 0.\n",
        "    #   - If a token ID is > 0, then it's a real token, set the mask to 1.\n",
        "    att_mask = [int(token_id > 0) for token_id in text]\n",
        "    attention_masks.append(att_mask)\n",
        "\n",
        "#  4. Split dataset (masks and inputs must match each other)\n",
        "train_inputs, validation_inputs, train_labels, validation_labels = train_test_split(input_ids, labels, \n",
        "                                                            random_state=44, test_size=0.1)\n",
        "train_masks, validation_masks, _, _ = train_test_split(attention_masks, labels,\n",
        "                                             random_state=44, test_size=0.1)\n",
        "\n",
        "# Converting inputs and outputs into pyTorch tensors (becouse Bert is implemented in pyTorch)\n",
        "train_inputs = torch.tensor(train_inputs)\n",
        "validation_inputs = torch.tensor(validation_inputs)\n",
        "\n",
        "train_labels = torch.tensor(train_labels)\n",
        "validation_labels = torch.tensor(validation_labels)\n",
        "\n",
        "train_masks = torch.tensor(train_masks)\n",
        "validation_masks = torch.tensor(validation_masks)\n",
        "\n",
        "# Create the DataLoader for our training set.\n",
        "train_data = TensorDataset(train_inputs, train_masks, train_labels)\n",
        "train_sampler = RandomSampler(train_data)\n",
        "train_dataloader = DataLoader(train_data, sampler=train_sampler, batch_size=batch_size)\n",
        "\n",
        "# Create the DataLoader for our validation set.\n",
        "validation_data = TensorDataset(validation_inputs, validation_masks, validation_labels)\n",
        "validation_sampler = SequentialSampler(validation_data)\n",
        "validation_dataloader = DataLoader(validation_data, sampler=validation_sampler, batch_size=batch_size)"
      ],
      "execution_count": 48,
      "outputs": []
    },
    {
      "cell_type": "markdown",
      "metadata": {
        "id": "H3sRTgi0KRIZ"
      },
      "source": [
        "## 3.2. Training"
      ]
    },
    {
      "cell_type": "code",
      "metadata": {
        "id": "qaLselXx_lXe"
      },
      "source": [
        "epochs = 10\n",
        "learning_rate = 5e-5\n",
        "epsilon = 1e-8\n",
        "\n",
        "optimizer = AdamW(model.parameters(),\n",
        "                  lr = learning_rate, \n",
        "                  eps =epsilon\n",
        "                )\n",
        "\n",
        "total_steps = len(train_dataloader) * epochs\n",
        "\n",
        "scheduler = get_linear_schedule_with_warmup(optimizer, \n",
        "                                            num_warmup_steps = 0, \n",
        "                                            num_training_steps = total_steps)\n",
        "\n",
        "def flat_accuracy(preds, labels):\n",
        "    pred_flat = np.argmax(preds, axis=1).flatten()\n",
        "    labels_flat = labels.flatten()\n",
        "    return np.sum(pred_flat == labels_flat) / len(labels_flat)"
      ],
      "execution_count": 51,
      "outputs": []
    },
    {
      "cell_type": "code",
      "metadata": {
        "colab": {
          "base_uri": "https://localhost:8080/"
        },
        "id": "IztSeSNP_ssm",
        "outputId": "220013d3-2806-490f-f60d-ecff32bb55e0"
      },
      "source": [
        "seed_val = 42\n",
        "\n",
        "random.seed(seed_val)\n",
        "np.random.seed(seed_val)\n",
        "torch.manual_seed(seed_val)\n",
        "torch.cuda.manual_seed_all(seed_val)\n",
        "\n",
        "loss_values = []\n",
        "\n",
        "for epoch_i in range(0, epochs):\n",
        "    \n",
        "    print(\"\")\n",
        "    print('======== Epoch {:} / {:} ========'.format(epoch_i + 1, epochs))\n",
        "    print('Training...')\n",
        "\n",
        "    t0 = time.time()\n",
        "    total_loss = 0\n",
        "    model.train()\n",
        "\n",
        "    for step, batch in enumerate(train_dataloader):\n",
        "\n",
        "        if step % 40 == 0 and not step == 0:\n",
        "            elapsed = time_elapsed(time.time() - t0)\n",
        "\n",
        "            print('  Batch {:>5,}  of  {:>5,}.    Elapsed: {:}.'.format(step, len(train_dataloader), elapsed))\n",
        "\n",
        "        b_input_ids = batch[0].to(device)\n",
        "        b_input_mask = batch[1].to(device)\n",
        "        b_labels = batch[2].to(device)\n",
        "\n",
        "        model.zero_grad()        \n",
        "\n",
        "        outputs = model(b_input_ids, \n",
        "                    token_type_ids=None, \n",
        "                    attention_mask=b_input_mask, \n",
        "                    labels=b_labels)\n",
        "        \n",
        "\n",
        "        loss = outputs[0]\n",
        "        total_loss += loss.item()\n",
        "        loss.backward()\n",
        "        torch.nn.utils.clip_grad_norm_(model.parameters(), 1.0)\n",
        "        optimizer.step()\n",
        "        scheduler.step()\n",
        "\n",
        "    avg_train_loss = total_loss / len(train_dataloader)            \n",
        "    loss_values.append(avg_train_loss)\n",
        "\n",
        "    print(\"\")\n",
        "    print(\"  Average training loss: {0:.2f}\".format(avg_train_loss))\n",
        "    print(\"  Training epcoh took: {:}\".format(time_elapsed(time.time() - t0)))\n",
        "        \n",
        "\n",
        "    #Validation\n",
        "\n",
        "    print(\"\")\n",
        "    print(\"Running Validation...\")\n",
        "\n",
        "    t0 = time.time()\n",
        "    model.eval()\n",
        "    eval_loss, eval_accuracy = 0, 0\n",
        "    nb_eval_steps, nb_eval_examples = 0, 0\n",
        "    for batch in validation_dataloader:\n",
        "        \n",
        "        batch = tuple(t.to(device) for t in batch)\n",
        "        b_input_ids, b_input_mask, b_labels = batch\n",
        "        with torch.no_grad():        \n",
        "            outputs = model(b_input_ids, \n",
        "                            token_type_ids=None, \n",
        "                            attention_mask=b_input_mask)\n",
        "        \n",
        "\n",
        "        logits = outputs[0]\n",
        "        logits = logits.detach().cpu().numpy()\n",
        "        label_ids = b_labels.to('cpu').numpy()\n",
        "\n",
        "        tmp_eval_accuracy = flat_accuracy(logits, label_ids)\n",
        "        eval_accuracy += tmp_eval_accuracy\n",
        "        nb_eval_steps += 1\n",
        "\n",
        "    print(\"  Accuracy: {0:.2f}\".format(eval_accuracy/nb_eval_steps))\n",
        "    print(\"  Validation took: {:}\".format(time_elapsed(time.time() - t0)))\n",
        "\n",
        "print(\"\")\n",
        "print(\"Training complete!\")"
      ],
      "execution_count": 52,
      "outputs": [
        {
          "output_type": "stream",
          "text": [
            "\n",
            "======== Epoch 1 / 10 ========\n",
            "Training...\n",
            "  Batch    40  of    215.    Elapsed: 0:00:14.55.\n",
            "  Batch    80  of    215.    Elapsed: 0:00:29.41.\n",
            "  Batch   120  of    215.    Elapsed: 0:00:44.08.\n",
            "  Batch   160  of    215.    Elapsed: 0:00:58.53.\n",
            "  Batch   200  of    215.    Elapsed: 0:01:12.82.\n",
            "\n",
            "  Average training loss: 0.26\n",
            "  Training epcoh took: 0:01:17.91\n",
            "\n",
            "Running Validation...\n",
            "  Accuracy: 0.83\n",
            "  Validation took: 0:00:02.83\n",
            "\n",
            "======== Epoch 2 / 10 ========\n",
            "Training...\n",
            "  Batch    40  of    215.    Elapsed: 0:00:14.34.\n",
            "  Batch    80  of    215.    Elapsed: 0:00:28.82.\n",
            "  Batch   120  of    215.    Elapsed: 0:00:43.34.\n",
            "  Batch   160  of    215.    Elapsed: 0:00:57.82.\n",
            "  Batch   200  of    215.    Elapsed: 0:01:12.24.\n",
            "\n",
            "  Average training loss: 0.18\n",
            "  Training epcoh took: 0:01:17.37\n",
            "\n",
            "Running Validation...\n",
            "  Accuracy: 0.82\n",
            "  Validation took: 0:00:02.87\n",
            "\n",
            "======== Epoch 3 / 10 ========\n",
            "Training...\n",
            "  Batch    40  of    215.    Elapsed: 0:00:14.36.\n",
            "  Batch    80  of    215.    Elapsed: 0:00:28.78.\n",
            "  Batch   120  of    215.    Elapsed: 0:00:43.22.\n",
            "  Batch   160  of    215.    Elapsed: 0:00:57.64.\n",
            "  Batch   200  of    215.    Elapsed: 0:01:12.11.\n",
            "\n",
            "  Average training loss: 0.12\n",
            "  Training epcoh took: 0:01:17.23\n",
            "\n",
            "Running Validation...\n",
            "  Accuracy: 0.82\n",
            "  Validation took: 0:00:02.88\n",
            "\n",
            "======== Epoch 4 / 10 ========\n",
            "Training...\n",
            "  Batch    40  of    215.    Elapsed: 0:00:14.39.\n",
            "  Batch    80  of    215.    Elapsed: 0:00:28.75.\n",
            "  Batch   120  of    215.    Elapsed: 0:00:43.15.\n",
            "  Batch   160  of    215.    Elapsed: 0:00:57.55.\n",
            "  Batch   200  of    215.    Elapsed: 0:01:11.93.\n",
            "\n",
            "  Average training loss: 0.11\n",
            "  Training epcoh took: 0:01:17.03\n",
            "\n",
            "Running Validation...\n",
            "  Accuracy: 0.80\n",
            "  Validation took: 0:00:02.86\n",
            "\n",
            "======== Epoch 5 / 10 ========\n",
            "Training...\n",
            "  Batch    40  of    215.    Elapsed: 0:00:14.35.\n",
            "  Batch    80  of    215.    Elapsed: 0:00:28.71.\n",
            "  Batch   120  of    215.    Elapsed: 0:00:43.06.\n",
            "  Batch   160  of    215.    Elapsed: 0:00:57.41.\n",
            "  Batch   200  of    215.    Elapsed: 0:01:11.80.\n",
            "\n",
            "  Average training loss: 0.09\n",
            "  Training epcoh took: 0:01:16.92\n",
            "\n",
            "Running Validation...\n",
            "  Accuracy: 0.81\n",
            "  Validation took: 0:00:02.87\n",
            "\n",
            "======== Epoch 6 / 10 ========\n",
            "Training...\n",
            "  Batch    40  of    215.    Elapsed: 0:00:14.31.\n",
            "  Batch    80  of    215.    Elapsed: 0:00:28.67.\n",
            "  Batch   120  of    215.    Elapsed: 0:00:43.03.\n",
            "  Batch   160  of    215.    Elapsed: 0:00:57.39.\n",
            "  Batch   200  of    215.    Elapsed: 0:01:11.76.\n",
            "\n",
            "  Average training loss: 0.07\n",
            "  Training epcoh took: 0:01:16.88\n",
            "\n",
            "Running Validation...\n",
            "  Accuracy: 0.80\n",
            "  Validation took: 0:00:02.89\n",
            "\n",
            "======== Epoch 7 / 10 ========\n",
            "Training...\n",
            "  Batch    40  of    215.    Elapsed: 0:00:14.34.\n",
            "  Batch    80  of    215.    Elapsed: 0:00:28.67.\n",
            "  Batch   120  of    215.    Elapsed: 0:00:42.97.\n",
            "  Batch   160  of    215.    Elapsed: 0:00:57.30.\n",
            "  Batch   200  of    215.    Elapsed: 0:01:11.60.\n",
            "\n",
            "  Average training loss: 0.05\n",
            "  Training epcoh took: 0:01:16.69\n",
            "\n",
            "Running Validation...\n",
            "  Accuracy: 0.83\n",
            "  Validation took: 0:00:02.87\n",
            "\n",
            "======== Epoch 8 / 10 ========\n",
            "Training...\n",
            "  Batch    40  of    215.    Elapsed: 0:00:14.27.\n",
            "  Batch    80  of    215.    Elapsed: 0:00:28.58.\n",
            "  Batch   120  of    215.    Elapsed: 0:00:42.88.\n",
            "  Batch   160  of    215.    Elapsed: 0:00:57.17.\n",
            "  Batch   200  of    215.    Elapsed: 0:01:11.49.\n",
            "\n",
            "  Average training loss: 0.04\n",
            "  Training epcoh took: 0:01:16.57\n",
            "\n",
            "Running Validation...\n",
            "  Accuracy: 0.83\n",
            "  Validation took: 0:00:02.87\n",
            "\n",
            "======== Epoch 9 / 10 ========\n",
            "Training...\n",
            "  Batch    40  of    215.    Elapsed: 0:00:14.25.\n",
            "  Batch    80  of    215.    Elapsed: 0:00:28.51.\n",
            "  Batch   120  of    215.    Elapsed: 0:00:42.76.\n",
            "  Batch   160  of    215.    Elapsed: 0:00:57.01.\n",
            "  Batch   200  of    215.    Elapsed: 0:01:11.29.\n",
            "\n",
            "  Average training loss: 0.04\n",
            "  Training epcoh took: 0:01:16.40\n",
            "\n",
            "Running Validation...\n",
            "  Accuracy: 0.82\n",
            "  Validation took: 0:00:02.88\n",
            "\n",
            "======== Epoch 10 / 10 ========\n",
            "Training...\n",
            "  Batch    40  of    215.    Elapsed: 0:00:14.28.\n",
            "  Batch    80  of    215.    Elapsed: 0:00:28.57.\n",
            "  Batch   120  of    215.    Elapsed: 0:00:42.82.\n",
            "  Batch   160  of    215.    Elapsed: 0:00:57.07.\n",
            "  Batch   200  of    215.    Elapsed: 0:01:11.30.\n",
            "\n",
            "  Average training loss: 0.03\n",
            "  Training epcoh took: 0:01:16.40\n",
            "\n",
            "Running Validation...\n",
            "  Accuracy: 0.83\n",
            "  Validation took: 0:00:02.87\n",
            "\n",
            "Training complete!\n"
          ],
          "name": "stdout"
        }
      ]
    },
    {
      "cell_type": "markdown",
      "metadata": {
        "id": "KVaKfXQ4LgaZ"
      },
      "source": [
        "## 4.0 Prediction"
      ]
    },
    {
      "cell_type": "code",
      "metadata": {
        "id": "XazlLYXULj6i"
      },
      "source": [
        "test_pred = test.text.values\n",
        "\n",
        "input_ids = []\n",
        "\n",
        "for text in test_pred:\n",
        "    encoded_text = tokenizer.encode(\n",
        "                        text,                      # Sentence to encode.\n",
        "                        add_special_tokens = True, # Add '[CLS]' and '[SEP]'\n",
        "                   )\n",
        "    \n",
        "    input_ids.append(encoded_text)\n",
        "\n",
        "input_ids = pad_sequences(input_ids, maxlen=MAX_LEN, \n",
        "                          dtype=\"long\", truncating=\"post\", padding=\"post\")\n",
        "\n",
        "attention_masks = []\n",
        "\n",
        "for seq in input_ids:\n",
        "  seq_mask = [float(i>0) for i in seq]\n",
        "  attention_masks.append(seq_mask) \n",
        "\n",
        "prediction_inputs = torch.tensor(input_ids)\n",
        "prediction_masks = torch.tensor(attention_masks)\n",
        "batch_size = 1  \n",
        "\n",
        "prediction_data = TensorDataset(prediction_inputs, prediction_masks)\n",
        "prediction_sampler = SequentialSampler(prediction_data)\n",
        "prediction_dataloader = DataLoader(prediction_data, sampler=prediction_sampler, batch_size=batch_size)\n",
        "\n",
        "predictions  = []\n",
        "\n",
        "model.eval()\n",
        "for batch in prediction_dataloader:\n",
        "  batch = tuple(t.to(device) for t in batch)\n",
        "  b_input_ids, b_input_mask = batch\n",
        "  with torch.no_grad():\n",
        "      outputs = model(b_input_ids, token_type_ids=None, \n",
        "                      attention_mask=b_input_mask)\n",
        "\n",
        "  logits = outputs[0]\n",
        "  logits = logits.detach().cpu().numpy()\n",
        "  predictions.append(logits)"
      ],
      "execution_count": 66,
      "outputs": []
    },
    {
      "cell_type": "code",
      "metadata": {
        "id": "YDShDbieNP5a"
      },
      "source": [
        "pred_labels = np.zeros(len(predictions))\n",
        "for i in range(len(predictions)):\n",
        "  pred_labels[i] = (np.argmax(predictions[i], axis=1).flatten())\n",
        "  \n",
        "pred_labels = pred_labels.astype('int8')"
      ],
      "execution_count": 100,
      "outputs": []
    },
    {
      "cell_type": "code",
      "metadata": {
        "id": "ozrd_xPFNjsk"
      },
      "source": [
        "submission = pd.DataFrame({\n",
        "    \"id\": test.id, \n",
        "    \"target\": pred_labels\n",
        "})\n",
        "submission.to_csv(os.path.join(FOLDER_PATH, 'submission.csv'), index=False)\n",
        "\n",
        "train = pd.read_csv(os.path.join(FOLDER_PATH, 'train.csv'))\n"
      ],
      "execution_count": 99,
      "outputs": []
    },
    {
      "cell_type": "code",
      "metadata": {
        "colab": {
          "base_uri": "https://localhost:8080/"
        },
        "id": "oOba88CfYmHX",
        "outputId": "6ae15706-092a-48ee-b836-b663bd439c8c"
      },
      "source": [
        ""
      ],
      "execution_count": 100,
      "outputs": [
        {
          "output_type": "execute_result",
          "data": {
            "text/plain": [
              "0           0\n",
              "1           2\n",
              "2           3\n",
              "3           9\n",
              "4          11\n",
              "        ...  \n",
              "3258    10861\n",
              "3259    10865\n",
              "3260    10868\n",
              "3261    10874\n",
              "3262    10875\n",
              "Name: id, Length: 3263, dtype: int64"
            ]
          },
          "metadata": {
            "tags": []
          },
          "execution_count": 100
        }
      ]
    }
  ]
}